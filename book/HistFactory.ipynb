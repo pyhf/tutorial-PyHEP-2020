{
 "cells": [
  {
   "cell_type": "markdown",
   "metadata": {},
   "source": [
    "# HistFactory"
   ]
  },
  {
   "cell_type": "code",
   "execution_count": null,
   "metadata": {},
   "outputs": [],
   "source": [
    "%%html\n",
    "<p align=\"center\">\n",
    "<iframe src=\"https://matthewfeickert.github.io/talk-SciPy-2020/index.html#2\" width=\"1200\" height=\"675\"></iframe>\n",
    "</p>"
   ]
  },
  {
   "cell_type": "code",
   "execution_count": null,
   "metadata": {},
   "outputs": [],
   "source": [
    "%%html\n",
    "<p align=\"center\">\n",
    "<iframe src=\"https://matthewfeickert.github.io/talk-SciPy-2020/index.html#6\" width=\"1200\" height=\"675\"></iframe>\n",
    "</p>"
   ]
  },
  {
   "cell_type": "code",
   "execution_count": null,
   "metadata": {},
   "outputs": [],
   "source": [
    "%%html\n",
    "<p align=\"center\">\n",
    "<iframe src=\"https://matthewfeickert.github.io/talk-SciPy-2020/index.html#7\" width=\"1200\" height=\"675\"></iframe>\n",
    "</p>"
   ]
  },
  {
   "cell_type": "code",
   "execution_count": null,
   "metadata": {},
   "outputs": [],
   "source": [
    "%%html\n",
    "<p align=\"center\">\n",
    "<iframe src=\"https://matthewfeickert.github.io/talk-SciPy-2020/index.html#13\" width=\"1200\" height=\"675\"></iframe>\n",
    "</p>"
   ]
  },
  {
   "cell_type": "markdown",
   "metadata": {},
   "source": [
    "## JSON Spec"
   ]
  },
  {
   "cell_type": "markdown",
   "metadata": {},
   "source": [
    "Let's investiage this spec a bit more now"
   ]
  },
  {
   "cell_type": "markdown",
   "metadata": {},
   "source": [
    "```json\n",
    "{\n",
    "    \"channels\": [\n",
    "        { \"name\": \"singlechannel\",\n",
    "          \"samples\": [\n",
    "            { \"name\": \"signal\",\n",
    "              \"data\": [5.0, 10.0],\n",
    "              \"modifiers\": [ { \"name\": \"mu\", \"type\": \"normfactor\", \"data\": null} ]\n",
    "            },\n",
    "            { \"name\": \"background\",\n",
    "              \"data\": [50.0, 60.0],\n",
    "              \"modifiers\": [ {\"name\": \"uncorr_bkguncrt\", \"type\": \"shapesys\", \"data\": [5.0, 12.0]} ]\n",
    "            }\n",
    "          ]\n",
    "        }\n",
    "    ],\n",
    "    \"observations\": [\n",
    "        { \"name\": \"singlechannel\", \"data\": [50.0, 60.0] }\n",
    "    ],\n",
    "    \"measurements\": [\n",
    "        { \"name\": \"Measurement\", \"config\": {\"poi\": \"mu\", \"parameters\": []} }\n",
    "    ],\n",
    "    \"version\": \"1.0.0\"\n",
    "}\n",
    "```"
   ]
  },
  {
   "cell_type": "markdown",
   "metadata": {},
   "source": [
    "> which demonstrates a simple measurement of a single two-bin channel with two samples: a **signal sample** and a **background sample**. The signal sample has an unconstrained normalisation factor $\\mu$, while the background sample carries an uncorrelated shape systematic controlled by parameters $\\gamma_{1}$ and $\\gamma_{2}$. The background uncertainty for the bins is $10\\%$ and $20\\%$ respectively."
   ]
  },
  {
   "cell_type": "code",
   "execution_count": null,
   "metadata": {},
   "outputs": [],
   "source": [
    "import pyhf\n",
    "import json"
   ]
  },
  {
   "cell_type": "code",
   "execution_count": null,
   "metadata": {},
   "outputs": [],
   "source": [
    "# Let's open up the spec\n",
    "with open(\"data/2-bin_1-channel.json\") as serialized:\n",
    "  spec = json.load(serialized)\n",
    "\n",
    "# then load it into a workspace\n",
    "workspace = pyhf.Workspace(spec)\n",
    "# and then create a statistical model from it\n",
    "model = workspace.model(measurement_name=\"Measurement\")"
   ]
  },
  {
   "cell_type": "code",
   "execution_count": null,
   "metadata": {},
   "outputs": [],
   "source": [
    "# Take a quick look at the model spec\n",
    "model.spec"
   ]
  },
  {
   "cell_type": "markdown",
   "metadata": {},
   "source": [
    "Let's clean that up a bit to make it more readable"
   ]
  },
  {
   "cell_type": "code",
   "execution_count": null,
   "metadata": {},
   "outputs": [],
   "source": [
    "def pretty_json(jsonlike, indent=None):\n",
    "    if indent is None: indent = 4\n",
    "    print(json.dumps(jsonlike, indent=indent))"
   ]
  },
  {
   "cell_type": "code",
   "execution_count": null,
   "metadata": {},
   "outputs": [],
   "source": [
    "pretty_json(model.spec)"
   ]
  },
  {
   "cell_type": "markdown",
   "metadata": {},
   "source": [
    "and now actually break that down again"
   ]
  },
  {
   "cell_type": "markdown",
   "metadata": {},
   "source": [
    "### Single Channel"
   ]
  },
  {
   "cell_type": "markdown",
   "metadata": {},
   "source": [
    "> which demonstrates a simple measurement of a single two-bin channel"
   ]
  },
  {
   "cell_type": "code",
   "execution_count": null,
   "metadata": {},
   "outputs": [],
   "source": [
    "print(f\"Number of channels in model: {len(model.spec['channels'])}\\n\")\n",
    "\n",
    "single_channel = model.spec[\"channels\"][0]\n",
    "single_channel[\"name\"]"
   ]
  },
  {
   "cell_type": "markdown",
   "metadata": {},
   "source": [
    "### Samples"
   ]
  },
  {
   "cell_type": "markdown",
   "metadata": {},
   "source": [
    "> with two samples"
   ]
  },
  {
   "cell_type": "code",
   "execution_count": null,
   "metadata": {},
   "outputs": [],
   "source": [
    "# Single channel with two samples\n",
    "pretty_json(single_channel[\"samples\"])"
   ]
  },
  {
   "cell_type": "markdown",
   "metadata": {},
   "source": [
    "### Modifiers"
   ]
  },
  {
   "cell_type": "markdown",
   "metadata": {},
   "source": [
    "> The signal sample has an unconstrained normalisation factor $\\mu$"
   ]
  },
  {
   "cell_type": "code",
   "execution_count": null,
   "metadata": {},
   "outputs": [],
   "source": [
    "signal_sample = single_channel[\"samples\"][0]\n",
    "pretty_json(signal_sample[\"modifiers\"])"
   ]
  },
  {
   "cell_type": "markdown",
   "metadata": {},
   "source": [
    "> the background sample carries an uncorrelated shape systematic controlled by parameters $\\gamma_{1}$ and $\\gamma_{2}$"
   ]
  },
  {
   "cell_type": "code",
   "execution_count": null,
   "metadata": {},
   "outputs": [],
   "source": [
    "# Each bin has its own shape systematic\n",
    "background_sample = single_channel[\"samples\"][1]\n",
    "pretty_json(background_sample[\"modifiers\"])"
   ]
  },
  {
   "cell_type": "markdown",
   "metadata": {},
   "source": [
    "> The background uncertainty for the bins is $10\\%$ and $20\\%$ respectively."
   ]
  },
  {
   "cell_type": "code",
   "execution_count": null,
   "metadata": {},
   "outputs": [],
   "source": [
    "import numpy as np\n",
    "\n",
    "bkg_uncert = background_sample[\"modifiers\"][0][\"data\"]\n",
    "np.array(bkg_uncert)/np.array(background_sample[\"data\"])"
   ]
  },
  {
   "cell_type": "code",
   "execution_count": null,
   "metadata": {},
   "outputs": [],
   "source": [
    "import requests\n",
    "\n",
    "remote_url = \"https://raw.githubusercontent.com/scikit-hep/pyhf/0f99cc488156e0826a27f55abc946d537a8922af/docs/examples/json/2-bin_1-channel.json\"\n",
    "response = json.loads(requests.get(remote_url).text)\n",
    "\n",
    "pretty_json(response)"
   ]
  },
  {
   "cell_type": "markdown",
   "metadata": {},
   "source": [
    "## Inspecting workspaces"
   ]
  },
  {
   "cell_type": "markdown",
   "metadata": {},
   "source": [
    "We can also use the `pyhf` command line tool to help us verify and inspect the workspace"
   ]
  },
  {
   "cell_type": "code",
   "execution_count": null,
   "metadata": {},
   "outputs": [],
   "source": [
    "! pyhf inspect data/2-bin_1-channel.json"
   ]
  }
 ],
 "metadata": {
  "kernelspec": {
   "display_name": "Python 3",
   "language": "python",
   "name": "python3"
  },
  "language_info": {
   "codemirror_mode": {
    "name": "ipython",
    "version": 3
   },
   "file_extension": ".py",
   "mimetype": "text/x-python",
   "name": "python",
   "nbconvert_exporter": "python",
   "pygments_lexer": "ipython3",
   "version": "3.7.5"
  }
 },
 "nbformat": 4,
 "nbformat_minor": 4
}
