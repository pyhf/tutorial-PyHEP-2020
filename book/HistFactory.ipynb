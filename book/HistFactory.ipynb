{
 "cells": [
  {
   "cell_type": "markdown",
   "metadata": {},
   "source": [
    "# HistFactory"
   ]
  },
  {
   "cell_type": "code",
   "execution_count": 12,
   "metadata": {},
   "outputs": [
    {
     "data": {
      "text/html": [
       "<p align=\"center\"><iframe src=\"https://matthewfeickert.github.io/talk-SciPy-2020/index.html#7\" width=\"1200\" height=\"675\"></iframe></p>\n"
      ],
      "text/plain": [
       "<IPython.core.display.HTML object>"
      ]
     },
     "metadata": {},
     "output_type": "display_data"
    }
   ],
   "source": [
    "%%html\n",
    "<p align=\"center\"><iframe src=\"https://matthewfeickert.github.io/talk-SciPy-2020/index.html#7\" width=\"1200\" height=\"675\"></iframe></p>"
   ]
  },
  {
   "cell_type": "markdown",
   "metadata": {},
   "source": [
    "$$\\large\n",
    "f(n, a | \\vec{\\eta}, \\vec{\\chi} ) = \\prod_{c \\in \\textrm{channels}} \\prod_{b \\in \\textrm{bins}} \\mathrm{Pois}(n_{cb} | \\nu_{cb}(\\vec{\\eta}, \\vec{\\chi}))\\, \\prod_{\\chi \\in \\vec{\\chi}} c_{\\chi}(a_{\\chi} | \\vec{\\chi})\n",
    "$$"
   ]
  }
 ],
 "metadata": {
  "kernelspec": {
   "display_name": "Python 3",
   "language": "python",
   "name": "python3"
  },
  "language_info": {
   "codemirror_mode": {
    "name": "ipython",
    "version": 3
   },
   "file_extension": ".py",
   "mimetype": "text/x-python",
   "name": "python",
   "nbconvert_exporter": "python",
   "pygments_lexer": "ipython3",
   "version": "3.7.5"
  }
 },
 "nbformat": 4,
 "nbformat_minor": 4
}
